{
 "cells": [
  {
   "cell_type": "code",
   "execution_count": 31,
   "metadata": {},
   "outputs": [
    {
     "data": {
      "text/plain": [
       "<module 'mypackage.grafico' from 'c:\\\\Users\\\\shiku\\\\Documents\\\\IABD\\\\PIA\\\\redes_neuronales\\\\tema6\\\\..\\\\mypackage\\\\grafico.py'>"
      ]
     },
     "execution_count": 31,
     "metadata": {},
     "output_type": "execute_result"
    }
   ],
   "source": [
    "#Reload mypackage\n",
    "import sys\n",
    "sys.path.append(\"../\")\n",
    "from importlib import reload\n",
    "import mypackage.modelo\n",
    "import mypackage.grafico\n",
    "\n",
    "reload(mypackage)\n",
    "reload(mypackage.modelo)\n",
    "reload(mypackage.grafico)"
   ]
  },
  {
   "cell_type": "code",
   "execution_count": 32,
   "metadata": {},
   "outputs": [],
   "source": [
    "from mypackage.modelo import *\n",
    "from mypackage.grafico import customize_graf,save_figure\n",
    "from sklearn.datasets import load_iris\n",
    "from sklearn.preprocessing import LabelBinarizer\n"
   ]
  },
  {
   "cell_type": "code",
   "execution_count": null,
   "metadata": {},
   "outputs": [],
   "source": [
    "#Carga de datos\n",
    "iris=load_iris()\n",
    "\n",
    "sepal_lenght=iris.data[:,0]\n",
    "petal_lenght=iris.data[:,2]\n",
    "flower_type=iris.target[:]\n"
   ]
  },
  {
   "cell_type": "code",
   "execution_count": 25,
   "metadata": {},
   "outputs": [],
   "source": [
    "label_binarizer=LabelBinarizer()\n",
    "label_binarizer.fit(range(max(flower_type)+1))\n",
    "\n",
    "y=label_binarizer.transform(flower_type)\n",
    "\n",
    "x=np.column_stack((sepal_lenght,petal_lenght))"
   ]
  },
  {
   "cell_type": "code",
   "execution_count": 34,
   "metadata": {},
   "outputs": [
    {
     "name": "stderr",
     "output_type": "stream",
     "text": [
      "c:\\Users\\shiku\\Documents\\IABD\\PIA\\redes_neuronales\\.venv\\Lib\\site-packages\\keras\\src\\layers\\core\\dense.py:87: UserWarning: Do not pass an `input_shape`/`input_dim` argument to a layer. When using Sequential models, prefer using an `Input(shape)` object as the first layer in the model instead.\n",
      "  super().__init__(activity_regularizer=activity_regularizer, **kwargs)\n"
     ]
    }
   ],
   "source": [
    "epochs=100\n",
    "capas=[6,12,6,3]\n",
    "model=compile_fit(capas=capas,x=x,y=y,epochs=epochs,activacion='relu',activacion_salida='softmax')"
   ]
  },
  {
   "cell_type": "code",
   "execution_count": 35,
   "metadata": {},
   "outputs": [
    {
     "ename": "AttributeError",
     "evalue": "'tuple' object has no attribute 'predict'",
     "output_type": "error",
     "traceback": [
      "\u001b[1;31m---------------------------------------------------------------------------\u001b[0m",
      "\u001b[1;31mAttributeError\u001b[0m                            Traceback (most recent call last)",
      "Cell \u001b[1;32mIn[35], line 1\u001b[0m\n\u001b[1;32m----> 1\u001b[0m \u001b[38;5;28mprint\u001b[39m(\u001b[43mmodel\u001b[49m\u001b[38;5;241;43m.\u001b[39;49m\u001b[43mpredict\u001b[49m(np\u001b[38;5;241m.\u001b[39marray([[\u001b[38;5;241m4.9\u001b[39m,\u001b[38;5;241m1.4\u001b[39m]])))\n\u001b[0;32m      2\u001b[0m \u001b[38;5;28mprint\u001b[39m(model\u001b[38;5;241m.\u001b[39mpredict(np\u001b[38;5;241m.\u001b[39marray([[\u001b[38;5;241m6.3\u001b[39m,\u001b[38;5;241m4.9\u001b[39m]])))\n",
      "\u001b[1;31mAttributeError\u001b[0m: 'tuple' object has no attribute 'predict'"
     ]
    }
   ],
   "source": [
    "print(model.predict(np.array([[4.9,1.4]])))\n",
    "print(model.predict(np.array([[6.3,4.9]])))"
   ]
  }
 ],
 "metadata": {
  "kernelspec": {
   "display_name": ".venv",
   "language": "python",
   "name": "python3"
  },
  "language_info": {
   "codemirror_mode": {
    "name": "ipython",
    "version": 3
   },
   "file_extension": ".py",
   "mimetype": "text/x-python",
   "name": "python",
   "nbconvert_exporter": "python",
   "pygments_lexer": "ipython3",
   "version": "3.12.7"
  }
 },
 "nbformat": 4,
 "nbformat_minor": 2
}
