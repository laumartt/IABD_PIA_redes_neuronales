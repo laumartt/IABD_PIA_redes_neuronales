{
 "cells": [
  {
   "cell_type": "code",
   "execution_count": 7,
   "metadata": {},
   "outputs": [],
   "source": [
    "import sys\n",
    "import os\n",
    "\n",
    "sys.path.append(os.path.abspath(\"../\"))"
   ]
  },
  {
   "cell_type": "code",
   "execution_count": null,
   "metadata": {},
   "outputs": [],
   "source": [
    "from tabulate import tabulate\n",
    "import numpy as np\n",
    "import pandas as pd\n",
    "import matplotlib.pyplot as plt\n",
    "from sklearn.datasets import load_iris\n",
    "from matplotlib.colors import LightSource\n",
    "from time import perf_counter\n",
    "from mypackage.modelo import *"
   ]
  },
  {
   "cell_type": "code",
   "execution_count": 3,
   "metadata": {},
   "outputs": [],
   "source": [
    "def get_datos():\n",
    "    datos=[[  2.01666708 ,  56.18031474], [  4.79734083 ,  47.18848199], [  9.23784581 ,  57.68974048], [ 14.11529384 ,  43.70348368],\n",
    "         [ 14.92688637 ,  59.10244323], [ 17.34408196 ,  65.96080804], [ 17.62435324 ,  45.74334603], [ 22.41875021 ,  13.575581  ],\n",
    "         [ 25.3139145  ,  68.43756969], [ 34.85886672 , 147.15375307], [ 38.87476262 ,  25.39687009], [ 42.01380169 ,  74.39010069],\n",
    "         [ 46.63551059 ,  98.93395801], [ 49.58578273 , 116.07013679], [ 50.18371003 , 138.55546747], [ 52.06630172 , 139.36601894],\n",
    "         [ 54.68810274 , 150.09622546], [ 57.13046193 , 156.14375739], [ 66.35609935 , 119.75844452], [ 69.05499042 , 139.08155228],\n",
    "         [ 69.51252436 , 128.72247348], [ 69.83788756 , 152.65110462], [ 79.76649746 , 148.23106977], [ 81.83730552 , 137.86314926],\n",
    "         [ 87.09879038 , 217.28932067], [ 89.00469759 , 168.64994509], [ 93.17139213 , 163.10598352], [ 93.66070686 , 200.47638924],\n",
    "         [ 94.1944751  , 150.44019156], [ 97.36920633 , 173.2055957 ]]\n",
    " \n",
    "    return datos"
   ]
  },
  {
   "cell_type": "code",
   "execution_count": null,
   "metadata": {},
   "outputs": [
    {
     "name": "stderr",
     "output_type": "stream",
     "text": [
      "c:\\Users\\shiku\\Documents\\IABD\\PIA\\redes_neuronales\\.venv\\Lib\\site-packages\\keras\\src\\layers\\core\\dense.py:87: UserWarning: Do not pass an `input_shape`/`input_dim` argument to a layer. When using Sequential models, prefer using an `Input(shape)` object as the first layer in the model instead.\n",
      "  super().__init__(activity_regularizer=activity_regularizer, **kwargs)\n"
     ]
    }
   ],
   "source": [
    "datos=np.array(get_datos())\n",
    "capas=[5,10,15,10,1]\n",
    "x=datos[:,0]\n",
    "y_true=datos[:,1]\n",
    "epocas=5000\n",
    "activacion='relu'\n",
    "ult_activacion='linear'\n",
    "model, history,tiempo_entrenamiento=compile_fit(capas,x,y_true,epochs=epocas,activacion=activacion,ult_activacion=ult_activacion)"
   ]
  },
  {
   "cell_type": "code",
   "execution_count": 5,
   "metadata": {},
   "outputs": [
    {
     "name": "stdout",
     "output_type": "stream",
     "text": [
      "        x    y_true    y_pred    Error\n",
      "---------  --------  --------  -------\n",
      " 2.01667    4.79734   9.23785  14.1153\n",
      "56.1803    47.1885   57.6897   43.7035\n",
      "56.5894    51.1761   51.7491   52.3784\n",
      " 0.167311  15.9013   35.2913   75.2547\n"
     ]
    }
   ],
   "source": [
    "x_paso3=np.array([2.01666708, 4.79734083, 9.23784581, 14.11529384 ]).reshape(-1,1)\n",
    "y_true_paso3=np.array([56.18031474, 47.18848199, 57.68974048, 43.70348368]).reshape(-1,1)\n",
    "y_pred_paso3=model.predict(x_paso3,verbose=False)\n",
    "y_error_paso3=(y_true_paso3-y_pred_paso3)**2\n",
    "\n",
    "resultados=[x_paso3, y_true_paso3, y_pred_paso3,y_error_paso3]\n",
    "\n",
    "print(tabulate(resultados, headers=('x', 'y_true', 'y_pred', 'Error')))"
   ]
  },
  {
   "cell_type": "code",
   "execution_count": 6,
   "metadata": {},
   "outputs": [
    {
     "name": "stdout",
     "output_type": "stream",
     "text": [
      "El error medio es: 31.6537\n"
     ]
    }
   ],
   "source": [
    "MSE_paso3=np.sum(y_error_paso3)/np.size(y_true_paso3)\n",
    "\n",
    "print(f'El error medio es: {MSE_paso3:.4f}')"
   ]
  },
  {
   "cell_type": "code",
   "execution_count": 7,
   "metadata": {},
   "outputs": [
    {
     "name": "stdout",
     "output_type": "stream",
     "text": [
      "El coeficiente de determinación es: 0.0905\n"
     ]
    }
   ],
   "source": [
    "#Coeficiente de determinacion\n",
    "\n",
    "media_valores_verdaderos=np.sum(y_true_paso3)/np.size(y_true_paso3)\n",
    "suma_errores=np.sum((y_true_paso3-y_pred_paso3)**2)\n",
    "suma_valores_media=np.sum((y_true_paso3-media_valores_verdaderos)**2)\n",
    "coeficiente_determinacion_paso3=1-(suma_errores/suma_valores_media)\n",
    "\n",
    "print(f'El coeficiente de determinación es: {coeficiente_determinacion_paso3:.4f}')"
   ]
  },
  {
   "cell_type": "code",
   "execution_count": 8,
   "metadata": {},
   "outputs": [],
   "source": [
    "def get_error(y_true,y_pred):\n",
    "    y_error=np.sum((y_true-y_pred)**2)/np.size(y_true)\n",
    "    return y_error\n",
    "\n",
    "\n",
    "def get_mse(y_true,y_pred):\n",
    "    y_error=(y_true-y_pred)**2\n",
    "    mse=np.sum(y_error)/np.size(y_true)\n",
    "    return mse\n",
    "\n",
    "def get_coef_determinacion(y_true,y_pred):\n",
    "    media_valores_verdaderos=np.sum(y_true)/np.size(y_true)\n",
    "    suma_errores=np.sum((y_true-y_pred)**2)\n",
    "    suma_valores_media=np.sum((y_true-media_valores_verdaderos)**2)\n",
    "    coef_determinacion=1-(suma_errores/suma_valores_media)\n",
    "    return coef_determinacion\n",
    "    \n",
    "\n",
    "def get_metricas_modelo(model,x_true,y_true):\n",
    "    y_pred=model.predict(x_true,verbose=False)\n",
    "    error_cuadratico=get_error(y_true,y_pred)\n",
    "    mse=get_mse(y_true,y_pred)\n",
    "    coeficiente_determinacion=get_coef_determinacion(y_true,y_pred)\n",
    "    return error_cuadratico,mse, coeficiente_determinacion"
   ]
  },
  {
   "cell_type": "code",
   "execution_count": 13,
   "metadata": {},
   "outputs": [
    {
     "name": "stdout",
     "output_type": "stream",
     "text": [
      "  Nombre red  capas                               epocas  activacion             MSE             R    Tiempo entrenamiento\n",
      "------------  --------------------------------  --------  ------------  ------------  ------------  ----------------------\n",
      "           0  [5, 10, 3, 10, 1]                     5000  relu           162.914       162.914                   -3.68111\n",
      "           1  [5, 10, 3, 10, 1]                     5000  selu           166.324       166.324                   -3.77909\n",
      "           2  [5, 10, 3, 10, 1]                     5000  tanh            88.9641       88.9641                  -1.55626\n",
      "           3  [20, 40, 80, 40, 20, 1]               5000  relu            43.2249       43.2249                  -0.242006\n",
      "           4  [20, 40, 80, 40, 20, 1]               5000  selu             0.0912387     0.0912387                0.997378\n",
      "           5  [20, 40, 80, 40, 20, 1]               5000  tanh          3429.24       3429.24                   -97.5345\n",
      "           6  [20, 40, 80, 160, 80, 40, 20, 1]      5000  relu             7.0075        7.0075                   0.798649\n",
      "           7  [20, 40, 80, 160, 80, 40, 20, 1]      5000  selu             3.75048       3.75048                  0.892235\n",
      "           8  [20, 40, 80, 160, 80, 40, 20, 1]      5000  tanh          3421.09       3421.09                   -97.3\n"
     ]
    }
   ],
   "source": [
    "redes_neuronales=[[[5,10,3,10,1],\"relu\"],\n",
    "                            [[5,10,3,10,1],\"selu\"],\n",
    "                            [[5,10,3,10,1],\"tanh\"],    \n",
    "                            [[20,40,80,40,20,1],\"relu\"],\n",
    "                            [[20,40,80,40,20,1],\"selu\"],\n",
    "                            [[20,40,80,40,20,1],\"tanh\"],\n",
    "                            [[20,40,80,160,80,40,20,1],\"relu\"],\n",
    "                            [[20,40,80,160,80,40,20,1],\"selu\"],\n",
    "                            [[20,40,80,160,80,40,20,1],\"tanh\"]\n",
    "]\n",
    "datos=np.array(get_datos())\n",
    "x_entrenamiento=datos[:,0]\n",
    "y_entrenamiento=datos[:,1]\n",
    "resultados=[]\n",
    "epocas=5000\n",
    "\n",
    "for index, (capas,activaciones) in enumerate(redes_neuronales):\n",
    "    model,history,tiempo_entrenamiento=compile_fit(capas=capas,x=x_entrenamiento,y=y_entrenamiento,epochs=epocas,activacion=activaciones)\n",
    "    x_true_result=np.array([2.01666708, 4.79734083, 9.23784581, 14.11529384 ]).reshape(-1,1)\n",
    "    y_true_result=np.array([56.18031474, 47.18848199, 57.68974048, 43.70348368]).reshape(-1,1)\n",
    "    \n",
    "    error_cuad,mse,coef_determinacion=get_metricas_modelo(model,x_true_result,y_true_result)\n",
    "\n",
    "    resultados_temp=[index,capas,epocas,activaciones,mse,error_cuad,coef_determinacion]\n",
    "\n",
    "    resultados.append(resultados_temp)\n",
    "\n",
    "\n",
    "print(tabulate(resultados, headers=('Nombre red', 'capas', 'epocas', 'activacion','MSE','R','Tiempo entrenamiento')))"
   ]
  },
  {
   "cell_type": "code",
   "execution_count": 14,
   "metadata": {},
   "outputs": [],
   "source": [
    "def get_datos_validacion():\n",
    "    datos_validacion=np.array([[  1.22140488 , 59.35315077] , [  2.42834632 ,  3.50613409] , [  4.27529991 , 70.39938914] ,\n",
    "        [ 14.44651349 , 50.0606769 ] , [ 16.10795855 , 81.08562061] , [ 16.75024181 , 33.95365822] ,\n",
    "        [ 26.80487149 , 47.1495392 ] , [ 28.81517859 ,106.34919698] , [ 48.56698654 ,120.25398606] ,\n",
    "        [ 52.08015067 ,116.7993955 ] , [ 53.30646055 ,131.30936472] , [ 55.09968806 ,131.34281752] ,\n",
    "        [ 60.39615207 , 97.77483743] , [ 73.52487026 , 92.30645543] , [ 76.2771471  ,109.9995226 ] ,\n",
    "        [ 84.56808303 ,120.60657657] , [ 89.2700557  ,117.3687155 ] , [ 91.03720679 ,159.47376137] ,\n",
    "        [ 93.53406333 ,166.44439331] , [ 94.78103495 ,180.66942656]])\n",
    "    return datos_validacion\n",
    "\n",
    "\n",
    "datos_val=get_datos_validacion()\n",
    "\n",
    "\n"
   ]
  },
  {
   "cell_type": "code",
   "execution_count": null,
   "metadata": {},
   "outputs": [
    {
     "name": "stdout",
     "output_type": "stream",
     "text": [
      "  Nombre red  capas                               epocas  activacion         MSE        R2    Tiempo entrenamiento    MSE validacion    R2 validacion\n",
      "------------  --------------------------------  --------  ------------  --------  --------  ----------------------  ----------------  ---------------\n",
      "           0  [5, 10, 3, 10, 1]                       10  relu          2535.47   2535.47                 -71.853          10194.8          10194.8\n",
      "           1  [5, 10, 3, 10, 1]                       10  selu          2228.31   2228.31                 -63.0273          9276.56          9276.56\n",
      "           2  [5, 10, 3, 10, 1]                       10  tanh          2545.07   2545.07                 -72.1288         11733.3          11733.3\n",
      "           3  [20, 40, 80, 40, 20, 1]                 10  relu          2370.73   2370.73                 -67.1195          7782.82          7782.82\n",
      "           4  [20, 40, 80, 40, 20, 1]                 10  selu          1490.25   1490.25                 -41.8202          4309.1           4309.1\n",
      "           5  [20, 40, 80, 40, 20, 1]                 10  tanh          2276.53   2276.53                 -64.4129         11142.9          11142.9\n",
      "           6  [20, 40, 80, 160, 80, 40, 20, 1]        10  relu          1472.89   1472.89                 -41.3215          1184.72          1184.72\n",
      "           7  [20, 40, 80, 160, 80, 40, 20, 1]        10  selu           397.472   397.472                -10.4208           875.618          875.618\n",
      "           8  [20, 40, 80, 160, 80, 40, 20, 1]        10  tanh          2209.13   2209.13                 -62.4761         11054.4          11054.4\n"
     ]
    }
   ],
   "source": [
    "datos_val=get_datos_validacion()\n",
    "x_val=datos_val[:, 0].reshape(-1,1)\n",
    "y_val=datos_val[:, 1].reshape(-1,1)\n",
    "datos=np.array(get_datos())\n",
    "x_entrenamiento=datos[:,0]\n",
    "y_entrenamiento=datos[:,1]\n",
    "resultados=[]\n",
    "epocas=5000\n",
    "x_true_result=np.array([2.01666708, 4.79734083, 9.23784581, 14.11529384 ]).reshape(-1,1)\n",
    "y_true_result=np.array([56.18031474, 47.18848199, 57.68974048, 43.70348368]).reshape(-1,1)\n",
    "\n",
    "for index, (capas,activaciones) in enumerate(redes_neuronales):\n",
    "    model,history,tiempo_entrenamiento=compile_fit(capas=capas,x=x_entrenamiento,y=y_entrenamiento,epochs=epocas,activacion=activaciones)\n",
    "    error_cuad,mse,coef_determinacion=get_metricas_modelo(model,x_true_result,y_true_result)\n",
    "    error_cuad_val,mse_val,coef_determinacion_val=get_metricas_modelo(model,x_val,y_val)\n",
    "\n",
    "    resultados_temp=[index,capas,epocas,activaciones,mse,error_cuad,coef_determinacion,mse_val,error_cuad_val]\n",
    "\n",
    "    resultados.append(resultados_temp)\n",
    "\n",
    "\n",
    "print(tabulate(resultados, headers=('Nombre red', 'capas', 'epocas', 'activacion','MSE','R2','Tiempo entrenamiento','MSE validacion','R2 validacion')))\n"
   ]
  },
  {
   "cell_type": "code",
   "execution_count": null,
   "metadata": {},
   "outputs": [],
   "source": []
  }
 ],
 "metadata": {
  "kernelspec": {
   "display_name": ".venv",
   "language": "python",
   "name": "python3"
  },
  "language_info": {
   "codemirror_mode": {
    "name": "ipython",
    "version": 3
   },
   "file_extension": ".py",
   "mimetype": "text/x-python",
   "name": "python",
   "nbconvert_exporter": "python",
   "pygments_lexer": "ipython3",
   "version": "3.12.7"
  }
 },
 "nbformat": 4,
 "nbformat_minor": 2
}
