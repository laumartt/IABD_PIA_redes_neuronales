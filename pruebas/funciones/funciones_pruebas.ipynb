{
 "cells": [
  {
   "cell_type": "code",
   "execution_count": null,
   "metadata": {},
   "outputs": [],
   "source": [
    "from tabulate import tabulate\n",
    "import numpy as np\n",
    "import pandas as pd\n",
    "import tensorflow as tf\n",
    "import matplotlib.pyplot as plt\n",
    "from keras.models import Sequential\n",
    "from keras.layers import Dense\n",
    "from sklearn.datasets import load_iris\n",
    "from matplotlib.colors import LightSource\n",
    "import random\n",
    "\n",
    "def fit_compile(capas, x, y, epocas=40):\n",
    "\n",
    "    model=Sequential()\n",
    "    model.add(Dense(capas[0], activation='relu',input_dim=2))\n",
    "    for i in range(1,len(capas)-2):\n",
    "      model.add(Dense(capas[i], activation='relu'))\n",
    "\n",
    "    model.add(Dense(capas[-1], activation='sigmoid'))\n",
    "    model.compile(loss='mean_squared_error')\n",
    "\n",
    "    model.fit(x, y,epochs=epocas)\n",
    "\n",
    "    return model"
   ]
  },
  {
   "cell_type": "code",
   "execution_count": null,
   "metadata": {},
   "outputs": [],
   "source": [
    "import matplotlib.pyplot as mlt\n",
    "from matplotlib.ticker import MultipleLocator\n",
    "\n",
    "import mypackage.funciones\n",
    "import mypackage.funciones.grafico\n",
    "\n",
    "def customize_graf(axes, title, xlabel, ylabel, xmajor_locator=1, ymajor_locator=1, xmax=50, ymax=50, color='#004494', facecolor='#ffffff', gridcolor='#e6e6fa', act_gridcolor=True, tickcolor='#580F41',tick_style=True, frontsize=13, legend=True):\n",
    "    #Titulos\n",
    "    axes.set_xlabel(xlabel,labelpad=20, color=color)\n",
    "    axes.set_ylabel(ylabel,labelpad=20, color=color)\n",
    "    axes.set_title(title, color=color, pad=20)\n",
    "    #Ejes\n",
    "    axes.set_xlim(xmin=0, xmax=xmax)\n",
    "    axes.set_ylim(ymin=0, ymax=ymax)\n",
    "    axes.xaxis.set_major_locator(MultipleLocator(xmajor_locator))\n",
    "    axes.yaxis.set_major_locator(MultipleLocator(ymajor_locator))\n",
    "    #Ticks\n",
    "    axes.tick_params(axis='both',labelsize=frontsize, colors=tickcolor)\n",
    "    if tick_style==True:\n",
    "        axes.spines['right'].set_visible(False)\n",
    "        axes.spines['top'].set_visible(False)\n",
    "    else:\n",
    "        axes.spines['right'].set_color(tickcolor)\n",
    "        axes.spines['top'].set_color(tickcolor)\n",
    "    axes.spines['left'].set_color(tickcolor)\n",
    "    axes.spines['bottom'].set_color(tickcolor)\n",
    "    #Color de fondo\n",
    "    axes.set_facecolor(facecolor)\n",
    "\n",
    "    #Cuadrícula\n",
    "    if act_gridcolor==True:\n",
    "        axes.grid(visible=True, which='major', axis='both',color=gridcolor,linewidth=1)\n",
    "        axes.set_axisbelow(True)\n",
    "    #Leyenda\n",
    "    if legend==True:\n",
    "        axes.legend(fontsize=frontsize,facecolor='#f0ffff',labelcolor=\"#000000\")\n",
    "\n",
    "\n",
    "\n"
   ]
  }
 ],
 "metadata": {
  "kernelspec": {
   "display_name": ".venv",
   "language": "python",
   "name": "python3"
  },
  "language_info": {
   "codemirror_mode": {
    "name": "ipython",
    "version": 3
   },
   "file_extension": ".py",
   "mimetype": "text/x-python",
   "name": "python",
   "nbconvert_exporter": "python",
   "pygments_lexer": "ipython3",
   "version": "3.12.7"
  }
 },
 "nbformat": 4,
 "nbformat_minor": 2
}
